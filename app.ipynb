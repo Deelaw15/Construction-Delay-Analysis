{
 "cells": [
  {
   "cell_type": "code",
   "execution_count": 1,
   "id": "b80f2d76",
   "metadata": {},
   "outputs": [],
   "source": [
    "## Streamlip App Code"
   ]
  },
  {
   "cell_type": "code",
   "execution_count": 2,
   "id": "5752881e",
   "metadata": {},
   "outputs": [],
   "source": [
    "import streamlit as st\n",
    "import pandas as pd\n",
    "import joblib"
   ]
  },
  {
   "cell_type": "code",
   "execution_count": 3,
   "id": "b98303ff",
   "metadata": {},
   "outputs": [
    {
     "name": "stderr",
     "output_type": "stream",
     "text": [
      "2025-05-27 22:25:05.723 WARNING streamlit.runtime.scriptrunner_utils.script_run_context: Thread 'MainThread': missing ScriptRunContext! This warning can be ignored when running in bare mode.\n",
      "2025-05-27 22:25:05.731 WARNING streamlit.runtime.scriptrunner_utils.script_run_context: Thread 'MainThread': missing ScriptRunContext! This warning can be ignored when running in bare mode.\n",
      "2025-05-27 22:25:07.368 \n",
      "  \u001b[33m\u001b[1mWarning:\u001b[0m to view this Streamlit app on a browser, run it with the following\n",
      "  command:\n",
      "\n",
      "    streamlit run C:\\Users\\deela\\AppData\\Local\\Packages\\PythonSoftwareFoundation.Python.3.12_qbz5n2kfra8p0\\LocalCache\\local-packages\\Python312\\site-packages\\ipykernel_launcher.py [ARGUMENTS]\n",
      "2025-05-27 22:25:07.368 Thread 'MainThread': missing ScriptRunContext! This warning can be ignored when running in bare mode.\n",
      "2025-05-27 22:25:07.369 Thread 'MainThread': missing ScriptRunContext! This warning can be ignored when running in bare mode.\n",
      "2025-05-27 22:25:07.370 Thread 'MainThread': missing ScriptRunContext! This warning can be ignored when running in bare mode.\n",
      "2025-05-27 22:25:07.371 Thread 'MainThread': missing ScriptRunContext! This warning can be ignored when running in bare mode.\n",
      "2025-05-27 22:25:07.371 Thread 'MainThread': missing ScriptRunContext! This warning can be ignored when running in bare mode.\n"
     ]
    },
    {
     "data": {
      "text/plain": [
       "DeltaGenerator()"
      ]
     },
     "execution_count": 3,
     "metadata": {},
     "output_type": "execute_result"
    }
   ],
   "source": [
    "# Load trained pipeline\n",
    "pipeline = joblib.load('delay_prediction_pipeline.pkl')\n",
    "\n",
    "st.set_page_config(page_title=\"Construction Delay Predictor\")\n",
    "st.title(\"🏗️ Construction Delay Risk Estimator\")\n",
    "\n",
    "st.markdown(\"\"\"\n",
    "Estimate whether a project is likely to be **delayed** based on its early planning details.\n",
    "\"\"\")\n",
    "st.markdown(\"### Input Project Details\")"
   ]
  },
  {
   "cell_type": "code",
   "execution_count": 4,
   "id": "d04773ea",
   "metadata": {},
   "outputs": [
    {
     "name": "stderr",
     "output_type": "stream",
     "text": [
      "2025-05-27 22:25:07.395 Thread 'MainThread': missing ScriptRunContext! This warning can be ignored when running in bare mode.\n",
      "2025-05-27 22:25:07.397 Thread 'MainThread': missing ScriptRunContext! This warning can be ignored when running in bare mode.\n",
      "2025-05-27 22:25:07.398 Thread 'MainThread': missing ScriptRunContext! This warning can be ignored when running in bare mode.\n",
      "2025-05-27 22:25:07.399 Thread 'MainThread': missing ScriptRunContext! This warning can be ignored when running in bare mode.\n",
      "2025-05-27 22:25:07.400 Session state does not function when running a script without `streamlit run`\n",
      "2025-05-27 22:25:07.401 Thread 'MainThread': missing ScriptRunContext! This warning can be ignored when running in bare mode.\n",
      "2025-05-27 22:25:07.403 Thread 'MainThread': missing ScriptRunContext! This warning can be ignored when running in bare mode.\n",
      "2025-05-27 22:25:07.404 Thread 'MainThread': missing ScriptRunContext! This warning can be ignored when running in bare mode.\n",
      "2025-05-27 22:25:07.406 Thread 'MainThread': missing ScriptRunContext! This warning can be ignored when running in bare mode.\n",
      "2025-05-27 22:25:07.407 Thread 'MainThread': missing ScriptRunContext! This warning can be ignored when running in bare mode.\n",
      "2025-05-27 22:25:07.409 Thread 'MainThread': missing ScriptRunContext! This warning can be ignored when running in bare mode.\n",
      "2025-05-27 22:25:07.409 Thread 'MainThread': missing ScriptRunContext! This warning can be ignored when running in bare mode.\n",
      "2025-05-27 22:25:07.409 Thread 'MainThread': missing ScriptRunContext! This warning can be ignored when running in bare mode.\n",
      "2025-05-27 22:25:07.409 Thread 'MainThread': missing ScriptRunContext! This warning can be ignored when running in bare mode.\n",
      "2025-05-27 22:25:07.409 Thread 'MainThread': missing ScriptRunContext! This warning can be ignored when running in bare mode.\n",
      "2025-05-27 22:25:07.415 Thread 'MainThread': missing ScriptRunContext! This warning can be ignored when running in bare mode.\n",
      "2025-05-27 22:25:07.416 Thread 'MainThread': missing ScriptRunContext! This warning can be ignored when running in bare mode.\n",
      "2025-05-27 22:25:07.417 Thread 'MainThread': missing ScriptRunContext! This warning can be ignored when running in bare mode.\n",
      "2025-05-27 22:25:07.418 Thread 'MainThread': missing ScriptRunContext! This warning can be ignored when running in bare mode.\n",
      "2025-05-27 22:25:07.420 Thread 'MainThread': missing ScriptRunContext! This warning can be ignored when running in bare mode.\n",
      "2025-05-27 22:25:07.422 Thread 'MainThread': missing ScriptRunContext! This warning can be ignored when running in bare mode.\n",
      "2025-05-27 22:25:07.425 Thread 'MainThread': missing ScriptRunContext! This warning can be ignored when running in bare mode.\n",
      "2025-05-27 22:25:07.426 Thread 'MainThread': missing ScriptRunContext! This warning can be ignored when running in bare mode.\n",
      "2025-05-27 22:25:07.427 Thread 'MainThread': missing ScriptRunContext! This warning can be ignored when running in bare mode.\n",
      "2025-05-27 22:25:07.429 Thread 'MainThread': missing ScriptRunContext! This warning can be ignored when running in bare mode.\n",
      "2025-05-27 22:25:07.430 Thread 'MainThread': missing ScriptRunContext! This warning can be ignored when running in bare mode.\n",
      "2025-05-27 22:25:07.431 Thread 'MainThread': missing ScriptRunContext! This warning can be ignored when running in bare mode.\n",
      "2025-05-27 22:25:07.434 Thread 'MainThread': missing ScriptRunContext! This warning can be ignored when running in bare mode.\n",
      "2025-05-27 22:25:07.435 Thread 'MainThread': missing ScriptRunContext! This warning can be ignored when running in bare mode.\n",
      "2025-05-27 22:25:07.436 Thread 'MainThread': missing ScriptRunContext! This warning can be ignored when running in bare mode.\n",
      "2025-05-27 22:25:07.437 Thread 'MainThread': missing ScriptRunContext! This warning can be ignored when running in bare mode.\n"
     ]
    }
   ],
   "source": [
    "# --- USER INPUT ---\n",
    "budget = st.number_input(\"Project Budget ($)\", min_value=1000.0, format=\"%.2f\")\n",
    "duration = st.number_input(\"Planned Duration (days)\", min_value=1)\n",
    "\n",
    "project_type = st.selectbox(\"Project Type\", [\n",
    "    'SCA CIP', 'SCA CIP RESOA', 'SCA EmergencyLighting', 'SCA Lease Site Improvement'\n",
    "])\n",
    "\n",
    "project_phase = st.selectbox(\"Project Phase\", ['Scope', 'Design', 'Construction', 'CM,F&E'])\n",
    "\n",
    "start_month = st.selectbox(\"Project Start Month\", [\n",
    "    'January', 'February', 'March', 'April', 'May', 'June',\n",
    "    'July', 'August', 'September', 'October', 'November', 'December'\n",
    "])"
   ]
  },
  {
   "cell_type": "code",
   "execution_count": 5,
   "id": "430a6bee",
   "metadata": {},
   "outputs": [],
   "source": [
    "# --- ENGINEERED FEATURE ---\n",
    "\n",
    "budget_per_day = budget / duration"
   ]
  },
  {
   "cell_type": "code",
   "execution_count": 6,
   "id": "5911cae3",
   "metadata": {},
   "outputs": [],
   "source": [
    "# --- ASSEMBLE INPUT FOR MODEL ---\n",
    "input_data = pd.DataFrame([{\n",
    "    'Budget': budget,\n",
    "    'Planned_Duration': duration,\n",
    "    'Budget_Per_Day': budget_per_day,\n",
    "    'Project Type': project_type,\n",
    "    'Project Phase Name': project_phase,\n",
    "    'Project Start_Month': start_month\n",
    "}])\n"
   ]
  },
  {
   "cell_type": "code",
   "execution_count": 7,
   "id": "2ca19744",
   "metadata": {},
   "outputs": [
    {
     "name": "stderr",
     "output_type": "stream",
     "text": [
      "2025-05-27 22:25:07.558 Thread 'MainThread': missing ScriptRunContext! This warning can be ignored when running in bare mode.\n",
      "2025-05-27 22:25:07.559 Thread 'MainThread': missing ScriptRunContext! This warning can be ignored when running in bare mode.\n",
      "2025-05-27 22:25:07.560 Thread 'MainThread': missing ScriptRunContext! This warning can be ignored when running in bare mode.\n",
      "2025-05-27 22:25:07.561 Thread 'MainThread': missing ScriptRunContext! This warning can be ignored when running in bare mode.\n",
      "2025-05-27 22:25:07.563 Thread 'MainThread': missing ScriptRunContext! This warning can be ignored when running in bare mode.\n"
     ]
    }
   ],
   "source": [
    "# --- PREDICT DELAY ---\n",
    "if st.button(\"🧠 Predict Delay Risk\"):\n",
    "    prediction = pipeline.predict(input_data)[0]\n",
    "    probability = pipeline.predict_proba(input_data)[0][1]\n",
    "\n",
    "    label = \"🚨 Delayed\" if prediction == 1 else \"✅ On-Time\"\n",
    "    st.subheader(f\"Prediction: **{label}**\")\n",
    "    st.write(f\"Model confidence in delay: **{probability:.2%}**\")"
   ]
  },
  {
   "cell_type": "code",
   "execution_count": null,
   "id": "6fc4a357",
   "metadata": {},
   "outputs": [],
   "source": []
  }
 ],
 "metadata": {
  "kernelspec": {
   "display_name": "Python 3",
   "language": "python",
   "name": "python3"
  },
  "language_info": {
   "codemirror_mode": {
    "name": "ipython",
    "version": 3
   },
   "file_extension": ".py",
   "mimetype": "text/x-python",
   "name": "python",
   "nbconvert_exporter": "python",
   "pygments_lexer": "ipython3",
   "version": "3.12.10"
  }
 },
 "nbformat": 4,
 "nbformat_minor": 5
}
