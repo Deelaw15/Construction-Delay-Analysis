{
 "cells": [
  {
   "cell_type": "markdown",
   "id": "b80f2d76",
   "metadata": {},
   "source": [
    "## Streamlip App Code"
   ]
  },
  {
   "cell_type": "code",
   "execution_count": 20,
   "id": "5752881e",
   "metadata": {},
   "outputs": [],
   "source": [
    "import streamlit as st\n",
    "import pandas as pd\n",
    "import joblib"
   ]
  },
  {
   "cell_type": "code",
   "execution_count": 21,
   "id": "b98303ff",
   "metadata": {},
   "outputs": [
    {
     "name": "stderr",
     "output_type": "stream",
     "text": [
      "2025-05-29 16:51:35.612 Thread 'MainThread': missing ScriptRunContext! This warning can be ignored when running in bare mode.\n",
      "2025-05-29 16:51:35.632 Thread 'MainThread': missing ScriptRunContext! This warning can be ignored when running in bare mode.\n",
      "2025-05-29 16:51:35.642 Thread 'MainThread': missing ScriptRunContext! This warning can be ignored when running in bare mode.\n",
      "2025-05-29 16:51:35.651 Thread 'MainThread': missing ScriptRunContext! This warning can be ignored when running in bare mode.\n",
      "2025-05-29 16:51:35.651 Thread 'MainThread': missing ScriptRunContext! This warning can be ignored when running in bare mode.\n",
      "2025-05-29 16:51:35.657 Thread 'MainThread': missing ScriptRunContext! This warning can be ignored when running in bare mode.\n",
      "2025-05-29 16:51:35.657 Thread 'MainThread': missing ScriptRunContext! This warning can be ignored when running in bare mode.\n"
     ]
    },
    {
     "data": {
      "text/plain": [
       "DeltaGenerator()"
      ]
     },
     "execution_count": 21,
     "metadata": {},
     "output_type": "execute_result"
    }
   ],
   "source": [
    "# Load trained pipeline\n",
    "pipeline = joblib.load('delay_prediction_pipeline.pkl')\n",
    "\n",
    "st.set_page_config(page_title=\"Construction Delay Predictor\")\n",
    "st.title(\"🏗️ Construction Delay Risk Estimator\")\n",
    "\n",
    "st.markdown(\"\"\"\n",
    "This tool uses historical data from NYC School Construction Authority (SCA) projects to estimate the likelihood of delays, helping project planners evaluate risks early.\n",
    "\"\"\")\n",
    "st.markdown(\"### Input Project Details\")"
   ]
  },
  {
   "cell_type": "code",
   "execution_count": 22,
   "id": "d04773ea",
   "metadata": {},
   "outputs": [
    {
     "name": "stderr",
     "output_type": "stream",
     "text": [
      "2025-05-29 16:51:35.720 Thread 'MainThread': missing ScriptRunContext! This warning can be ignored when running in bare mode.\n",
      "2025-05-29 16:51:35.726 Thread 'MainThread': missing ScriptRunContext! This warning can be ignored when running in bare mode.\n",
      "2025-05-29 16:51:35.729 Thread 'MainThread': missing ScriptRunContext! This warning can be ignored when running in bare mode.\n",
      "2025-05-29 16:51:35.733 Thread 'MainThread': missing ScriptRunContext! This warning can be ignored when running in bare mode.\n"
     ]
    },
    {
     "name": "stderr",
     "output_type": "stream",
     "text": [
      "2025-05-29 16:51:35.743 Thread 'MainThread': missing ScriptRunContext! This warning can be ignored when running in bare mode.\n",
      "2025-05-29 16:51:35.744 Thread 'MainThread': missing ScriptRunContext! This warning can be ignored when running in bare mode.\n",
      "2025-05-29 16:51:35.745 Thread 'MainThread': missing ScriptRunContext! This warning can be ignored when running in bare mode.\n",
      "2025-05-29 16:51:35.748 Thread 'MainThread': missing ScriptRunContext! This warning can be ignored when running in bare mode.\n",
      "2025-05-29 16:51:35.751 Thread 'MainThread': missing ScriptRunContext! This warning can be ignored when running in bare mode.\n",
      "2025-05-29 16:51:35.752 Thread 'MainThread': missing ScriptRunContext! This warning can be ignored when running in bare mode.\n",
      "2025-05-29 16:51:35.754 Thread 'MainThread': missing ScriptRunContext! This warning can be ignored when running in bare mode.\n",
      "2025-05-29 16:51:35.755 Thread 'MainThread': missing ScriptRunContext! This warning can be ignored when running in bare mode.\n",
      "2025-05-29 16:51:35.757 Thread 'MainThread': missing ScriptRunContext! This warning can be ignored when running in bare mode.\n",
      "2025-05-29 16:51:35.758 Thread 'MainThread': missing ScriptRunContext! This warning can be ignored when running in bare mode.\n",
      "2025-05-29 16:51:35.761 Thread 'MainThread': missing ScriptRunContext! This warning can be ignored when running in bare mode.\n",
      "2025-05-29 16:51:35.762 Thread 'MainThread': missing ScriptRunContext! This warning can be ignored when running in bare mode.\n",
      "2025-05-29 16:51:35.766 Thread 'MainThread': missing ScriptRunContext! This warning can be ignored when running in bare mode.\n",
      "2025-05-29 16:51:35.766 Thread 'MainThread': missing ScriptRunContext! This warning can be ignored when running in bare mode.\n",
      "2025-05-29 16:51:35.769 Thread 'MainThread': missing ScriptRunContext! This warning can be ignored when running in bare mode.\n",
      "2025-05-29 16:51:35.769 Thread 'MainThread': missing ScriptRunContext! This warning can be ignored when running in bare mode.\n",
      "2025-05-29 16:51:35.769 Thread 'MainThread': missing ScriptRunContext! This warning can be ignored when running in bare mode.\n",
      "2025-05-29 16:51:35.774 Thread 'MainThread': missing ScriptRunContext! This warning can be ignored when running in bare mode.\n",
      "2025-05-29 16:51:35.775 Thread 'MainThread': missing ScriptRunContext! This warning can be ignored when running in bare mode.\n",
      "2025-05-29 16:51:35.777 Thread 'MainThread': missing ScriptRunContext! This warning can be ignored when running in bare mode.\n",
      "2025-05-29 16:51:35.778 Thread 'MainThread': missing ScriptRunContext! This warning can be ignored when running in bare mode.\n",
      "2025-05-29 16:51:35.782 Thread 'MainThread': missing ScriptRunContext! This warning can be ignored when running in bare mode.\n",
      "2025-05-29 16:51:35.784 Thread 'MainThread': missing ScriptRunContext! This warning can be ignored when running in bare mode.\n",
      "2025-05-29 16:51:35.785 Thread 'MainThread': missing ScriptRunContext! This warning can be ignored when running in bare mode.\n",
      "2025-05-29 16:51:35.786 Thread 'MainThread': missing ScriptRunContext! This warning can be ignored when running in bare mode.\n",
      "2025-05-29 16:51:35.788 Thread 'MainThread': missing ScriptRunContext! This warning can be ignored when running in bare mode.\n"
     ]
    }
   ],
   "source": [
    "# --- USER INPUT ---\n",
    "budget = st.number_input(\"Project Budget ($)\", min_value=1000.0, format=\"%.2f\")\n",
    "duration = st.number_input(\"Planned Duration (days)\", min_value=1)\n",
    "\n",
    "project_type = st.selectbox(\"Project Type\", [\n",
    "    'SCA', 'SCA CIP RESOA', 'SCA EmergencyLighting', 'SCA Lease Site Improvement'\n",
    "])\n",
    "\n",
    "project_phase = st.selectbox(\"Project Phase\", ['Scope', 'Design', 'Construction', 'CM,F&E'])\n",
    "\n",
    "start_month = st.selectbox(\"Project Start Month\", [\n",
    "    'January', 'February', 'March', 'April', 'May', 'June',\n",
    "    'July', 'August', 'September', 'October', 'November', 'December'\n",
    "])"
   ]
  },
  {
   "cell_type": "code",
   "execution_count": 23,
   "id": "430a6bee",
   "metadata": {},
   "outputs": [],
   "source": [
    "# --- ENGINEERED FEATURE ---\n",
    "\n",
    "budget_per_day = budget / duration"
   ]
  },
  {
   "cell_type": "code",
   "execution_count": 24,
   "id": "5911cae3",
   "metadata": {},
   "outputs": [],
   "source": [
    "# --- ASSEMBLE INPUT FOR MODEL ---\n",
    "input_data = pd.DataFrame([{\n",
    "    'Budget': budget,\n",
    "    'Planned_Duration': duration,\n",
    "    'Budget_Per_Day': budget_per_day,\n",
    "    'Project Type': project_type,\n",
    "    'Project Phase Name': project_phase,\n",
    "    'Project Start_Month': start_month\n",
    "}])\n"
   ]
  },
  {
   "cell_type": "code",
   "execution_count": 25,
   "id": "2ca19744",
   "metadata": {},
   "outputs": [
    {
     "name": "stderr",
     "output_type": "stream",
     "text": [
      "2025-05-29 16:51:35.986 Thread 'MainThread': missing ScriptRunContext! This warning can be ignored when running in bare mode.\n",
      "2025-05-29 16:51:35.990 Thread 'MainThread': missing ScriptRunContext! This warning can be ignored when running in bare mode.\n",
      "2025-05-29 16:51:35.991 Thread 'MainThread': missing ScriptRunContext! This warning can be ignored when running in bare mode.\n",
      "2025-05-29 16:51:35.994 Thread 'MainThread': missing ScriptRunContext! This warning can be ignored when running in bare mode.\n",
      "2025-05-29 16:51:35.998 Thread 'MainThread': missing ScriptRunContext! This warning can be ignored when running in bare mode.\n"
     ]
    }
   ],
   "source": [
    "# --- PREDICT DELAY ---\n",
    "if st.button(\"🧠 Predict Delay Risk\"):\n",
    "    prediction = pipeline.predict(input_data)[0]\n",
    "    probability = pipeline.predict_proba(input_data)[0][1]\n",
    "\n",
    "    label = \"🚨 Delayed\" if prediction == 1 else \"✅ On-Time\"\n",
    "    st.subheader(f\"Prediction: **{label}**\")\n",
    "    st.write(f\"Model confidence in delay: **{probability:.2%}**\")"
   ]
  },
  {
   "cell_type": "code",
   "execution_count": null,
   "id": "6fc4a357",
   "metadata": {},
   "outputs": [],
   "source": []
  }
 ],
 "metadata": {
  "kernelspec": {
   "display_name": "Python 3",
   "language": "python",
   "name": "python3"
  },
  "language_info": {
   "codemirror_mode": {
    "name": "ipython",
    "version": 3
   },
   "file_extension": ".py",
   "mimetype": "text/x-python",
   "name": "python",
   "nbconvert_exporter": "python",
   "pygments_lexer": "ipython3",
   "version": "3.12.10"
  }
 },
 "nbformat": 4,
 "nbformat_minor": 5
}
