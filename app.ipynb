{
 "cells": [
  {
   "cell_type": "markdown",
   "id": "b80f2d76",
   "metadata": {},
   "source": [
    "## Streamlip App Code"
   ]
  },
  {
   "cell_type": "code",
   "execution_count": 14,
   "id": "5752881e",
   "metadata": {},
   "outputs": [],
   "source": [
    "import streamlit as st\n",
    "import pandas as pd\n",
    "import joblib"
   ]
  },
  {
   "cell_type": "code",
   "execution_count": 15,
   "id": "b98303ff",
   "metadata": {},
   "outputs": [
    {
     "name": "stderr",
     "output_type": "stream",
     "text": [
      "2025-05-29 13:47:42.397 Thread 'MainThread': missing ScriptRunContext! This warning can be ignored when running in bare mode.\n",
      "2025-05-29 13:47:42.399 Thread 'MainThread': missing ScriptRunContext! This warning can be ignored when running in bare mode.\n",
      "2025-05-29 13:47:42.401 Thread 'MainThread': missing ScriptRunContext! This warning can be ignored when running in bare mode.\n",
      "2025-05-29 13:47:42.403 Thread 'MainThread': missing ScriptRunContext! This warning can be ignored when running in bare mode.\n",
      "2025-05-29 13:47:42.406 Thread 'MainThread': missing ScriptRunContext! This warning can be ignored when running in bare mode.\n",
      "2025-05-29 13:47:42.407 Thread 'MainThread': missing ScriptRunContext! This warning can be ignored when running in bare mode.\n",
      "2025-05-29 13:47:42.411 Thread 'MainThread': missing ScriptRunContext! This warning can be ignored when running in bare mode.\n"
     ]
    },
    {
     "data": {
      "text/plain": [
       "DeltaGenerator()"
      ]
     },
     "execution_count": 15,
     "metadata": {},
     "output_type": "execute_result"
    }
   ],
   "source": [
    "# Load trained pipeline\n",
    "pipeline = joblib.load('delay_prediction_pipeline.pkl')\n",
    "\n",
    "st.set_page_config(page_title=\"Construction Delay Predictor\")\n",
    "st.title(\"🏗️ Construction Delay Risk Estimator\")\n",
    "\n",
    "st.markdown(\"\"\"\n",
    "Estimate whether a project is likely to be **delayed** based on its early planning details.\n",
    "\"\"\")\n",
    "st.markdown(\"### Input Project Details\")"
   ]
  },
  {
   "cell_type": "code",
   "execution_count": 16,
   "id": "d04773ea",
   "metadata": {},
   "outputs": [
    {
     "name": "stderr",
     "output_type": "stream",
     "text": [
      "2025-05-29 13:47:42.446 Thread 'MainThread': missing ScriptRunContext! This warning can be ignored when running in bare mode.\n",
      "2025-05-29 13:47:42.447 Thread 'MainThread': missing ScriptRunContext! This warning can be ignored when running in bare mode.\n",
      "2025-05-29 13:47:42.448 Thread 'MainThread': missing ScriptRunContext! This warning can be ignored when running in bare mode.\n",
      "2025-05-29 13:47:42.449 Thread 'MainThread': missing ScriptRunContext! This warning can be ignored when running in bare mode.\n",
      "2025-05-29 13:47:42.450 Thread 'MainThread': missing ScriptRunContext! This warning can be ignored when running in bare mode.\n",
      "2025-05-29 13:47:42.453 Thread 'MainThread': missing ScriptRunContext! This warning can be ignored when running in bare mode.\n",
      "2025-05-29 13:47:42.454 Thread 'MainThread': missing ScriptRunContext! This warning can be ignored when running in bare mode.\n",
      "2025-05-29 13:47:42.456 Thread 'MainThread': missing ScriptRunContext! This warning can be ignored when running in bare mode.\n",
      "2025-05-29 13:47:42.457 Thread 'MainThread': missing ScriptRunContext! This warning can be ignored when running in bare mode.\n",
      "2025-05-29 13:47:42.462 Thread 'MainThread': missing ScriptRunContext! This warning can be ignored when running in bare mode.\n",
      "2025-05-29 13:47:42.463 Thread 'MainThread': missing ScriptRunContext! This warning can be ignored when running in bare mode.\n",
      "2025-05-29 13:47:42.463 Thread 'MainThread': missing ScriptRunContext! This warning can be ignored when running in bare mode.\n",
      "2025-05-29 13:47:42.463 Thread 'MainThread': missing ScriptRunContext! This warning can be ignored when running in bare mode.\n",
      "2025-05-29 13:47:42.463 Thread 'MainThread': missing ScriptRunContext! This warning can be ignored when running in bare mode.\n",
      "2025-05-29 13:47:42.463 Thread 'MainThread': missing ScriptRunContext! This warning can be ignored when running in bare mode.\n",
      "2025-05-29 13:47:42.470 Thread 'MainThread': missing ScriptRunContext! This warning can be ignored when running in bare mode.\n",
      "2025-05-29 13:47:42.471 Thread 'MainThread': missing ScriptRunContext! This warning can be ignored when running in bare mode.\n",
      "2025-05-29 13:47:42.472 Thread 'MainThread': missing ScriptRunContext! This warning can be ignored when running in bare mode.\n",
      "2025-05-29 13:47:42.474 Thread 'MainThread': missing ScriptRunContext! This warning can be ignored when running in bare mode.\n",
      "2025-05-29 13:47:42.475 Thread 'MainThread': missing ScriptRunContext! This warning can be ignored when running in bare mode.\n",
      "2025-05-29 13:47:42.476 Thread 'MainThread': missing ScriptRunContext! This warning can be ignored when running in bare mode.\n",
      "2025-05-29 13:47:42.478 Thread 'MainThread': missing ScriptRunContext! This warning can be ignored when running in bare mode.\n",
      "2025-05-29 13:47:42.480 Thread 'MainThread': missing ScriptRunContext! This warning can be ignored when running in bare mode.\n",
      "2025-05-29 13:47:42.480 Thread 'MainThread': missing ScriptRunContext! This warning can be ignored when running in bare mode.\n",
      "2025-05-29 13:47:42.481 Thread 'MainThread': missing ScriptRunContext! This warning can be ignored when running in bare mode.\n",
      "2025-05-29 13:47:42.483 Thread 'MainThread': missing ScriptRunContext! This warning can be ignored when running in bare mode.\n",
      "2025-05-29 13:47:42.484 Thread 'MainThread': missing ScriptRunContext! This warning can be ignored when running in bare mode.\n",
      "2025-05-29 13:47:42.486 Thread 'MainThread': missing ScriptRunContext! This warning can be ignored when running in bare mode.\n",
      "2025-05-29 13:47:42.492 Thread 'MainThread': missing ScriptRunContext! This warning can be ignored when running in bare mode.\n",
      "2025-05-29 13:47:42.495 Thread 'MainThread': missing ScriptRunContext! This warning can be ignored when running in bare mode.\n"
     ]
    }
   ],
   "source": [
    "# --- USER INPUT ---\n",
    "budget = st.number_input(\"Project Budget ($)\", min_value=1000.0, format=\"%.2f\")\n",
    "duration = st.number_input(\"Planned Duration (days)\", min_value=1)\n",
    "\n",
    "project_type = st.selectbox(\"Project Type\", [\n",
    "    'SCA', 'SCA CIP RESOA', 'SCA EmergencyLighting', 'SCA Lease Site Improvement'\n",
    "])\n",
    "\n",
    "project_phase = st.selectbox(\"Project Phase\", ['Scope', 'Design', 'Construction', 'CM,F&E'])\n",
    "\n",
    "start_month = st.selectbox(\"Project Start Month\", [\n",
    "    'January', 'February', 'March', 'April', 'May', 'June',\n",
    "    'July', 'August', 'September', 'October', 'November', 'December'\n",
    "])"
   ]
  },
  {
   "cell_type": "code",
   "execution_count": 17,
   "id": "430a6bee",
   "metadata": {},
   "outputs": [],
   "source": [
    "# --- ENGINEERED FEATURE ---\n",
    "\n",
    "budget_per_day = budget / duration"
   ]
  },
  {
   "cell_type": "code",
   "execution_count": 18,
   "id": "5911cae3",
   "metadata": {},
   "outputs": [],
   "source": [
    "# --- ASSEMBLE INPUT FOR MODEL ---\n",
    "input_data = pd.DataFrame([{\n",
    "    'Budget': budget,\n",
    "    'Planned_Duration': duration,\n",
    "    'Budget_Per_Day': budget_per_day,\n",
    "    'Project Type': project_type,\n",
    "    'Project Phase Name': project_phase,\n",
    "    'Project Start_Month': start_month\n",
    "}])\n"
   ]
  },
  {
   "cell_type": "code",
   "execution_count": 19,
   "id": "2ca19744",
   "metadata": {},
   "outputs": [
    {
     "name": "stderr",
     "output_type": "stream",
     "text": [
      "2025-05-29 13:47:42.582 Thread 'MainThread': missing ScriptRunContext! This warning can be ignored when running in bare mode.\n",
      "2025-05-29 13:47:42.583 Thread 'MainThread': missing ScriptRunContext! This warning can be ignored when running in bare mode.\n",
      "2025-05-29 13:47:42.587 Thread 'MainThread': missing ScriptRunContext! This warning can be ignored when running in bare mode.\n",
      "2025-05-29 13:47:42.589 Thread 'MainThread': missing ScriptRunContext! This warning can be ignored when running in bare mode.\n",
      "2025-05-29 13:47:42.591 Thread 'MainThread': missing ScriptRunContext! This warning can be ignored when running in bare mode.\n"
     ]
    }
   ],
   "source": [
    "# --- PREDICT DELAY ---\n",
    "if st.button(\"🧠 Predict Delay Risk\"):\n",
    "    prediction = pipeline.predict(input_data)[0]\n",
    "    probability = pipeline.predict_proba(input_data)[0][1]\n",
    "\n",
    "    label = \"🚨 Delayed\" if prediction == 1 else \"✅ On-Time\"\n",
    "    st.subheader(f\"Prediction: **{label}**\")\n",
    "    st.write(f\"Model confidence in delay: **{probability:.2%}**\")"
   ]
  },
  {
   "cell_type": "code",
   "execution_count": null,
   "id": "6fc4a357",
   "metadata": {},
   "outputs": [],
   "source": []
  }
 ],
 "metadata": {
  "kernelspec": {
   "display_name": "Python 3",
   "language": "python",
   "name": "python3"
  },
  "language_info": {
   "codemirror_mode": {
    "name": "ipython",
    "version": 3
   },
   "file_extension": ".py",
   "mimetype": "text/x-python",
   "name": "python",
   "nbconvert_exporter": "python",
   "pygments_lexer": "ipython3",
   "version": "3.12.10"
  }
 },
 "nbformat": 4,
 "nbformat_minor": 5
}
