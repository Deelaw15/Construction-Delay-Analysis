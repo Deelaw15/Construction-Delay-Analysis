{
 "cells": [
  {
   "cell_type": "code",
   "execution_count": null,
   "id": "9867ad51",
   "metadata": {},
   "outputs": [],
   "source": [
    "import os\n",
    "import subprocess\n",
    "\n",
    "# 👇 Change this to your desired GitHub repo name\n",
    "repo_name = \"Delay Analysis\"\n",
    "commit_message = \"Initial commit\"\n",
    "\n",
    "# Step 1: Initialize Git\n",
    "subprocess.run([\"git\", \"init\"])\n",
    "\n",
    "# Step 2: Create a .gitignore file to ignore unnecessary stuff\n",
    "with open(\".gitignore\", \"w\") as f:\n",
    "    f.write(\"__pycache__/\\n*.pyc\\n.env\\n.vscode\")\n",
    "\n",
    "# Step 3: Add all files to Git tracking\n",
    "subprocess.run([\"git\", \"add\", \".\"])\n",
    "\n",
    "# Step 4: Commit the changes\n",
    "subprocess.run([\"git\", \"commit\", \"-m\", commit_message])\n",
    "\n",
    "# Step 5: Create a GitHub repo using GitHub CLI\n",
    "subprocess.run([\n",
    "    \"gh\", \"repo\", \"create\", repo_name,\n",
    "    \"--public\",  # change to \"--private\" if you want it private\n",
    "    \"--source=.\", \"--remote=origin\"\n",
    "])\n",
    "\n",
    "# Step 6: Push your code to GitHub\n",
    "subprocess.run([\"git\", \"branch\", \"-M\", \"main\"])\n",
    "subprocess.run([\"git\", \"push\", \"-u\", \"origin\", \"main\"])\n",
    "\n",
    "print(\"🎉 Done! Your project is now on GitHub.\")\n"
   ]
  },
  {
   "cell_type": "code",
   "execution_count": null,
   "id": "01c1cee1",
   "metadata": {},
   "outputs": [],
   "source": []
  }
 ],
 "metadata": {
  "kernelspec": {
   "display_name": "Python 3",
   "language": "python",
   "name": "python3"
  },
  "language_info": {
   "name": "python",
   "version": "3.12.10"
  }
 },
 "nbformat": 4,
 "nbformat_minor": 5
}
